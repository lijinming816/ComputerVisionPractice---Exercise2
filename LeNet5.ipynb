{
 "cells": [
  {
   "cell_type": "code",
   "execution_count": 2,
   "metadata": {},
   "outputs": [
    {
     "name": "stderr",
     "output_type": "stream",
     "text": [
      "D:\\XUEXI\\anaconda3\\envs\\tensorflow\\lib\\site-packages\\tensorflow\\python\\framework\\dtypes.py:516: FutureWarning: Passing (type, 1) or '1type' as a synonym of type is deprecated; in a future version of numpy, it will be understood as (type, (1,)) / '(1,)type'.\n",
      "  _np_qint8 = np.dtype([(\"qint8\", np.int8, 1)])\n",
      "D:\\XUEXI\\anaconda3\\envs\\tensorflow\\lib\\site-packages\\tensorflow\\python\\framework\\dtypes.py:517: FutureWarning: Passing (type, 1) or '1type' as a synonym of type is deprecated; in a future version of numpy, it will be understood as (type, (1,)) / '(1,)type'.\n",
      "  _np_quint8 = np.dtype([(\"quint8\", np.uint8, 1)])\n",
      "D:\\XUEXI\\anaconda3\\envs\\tensorflow\\lib\\site-packages\\tensorflow\\python\\framework\\dtypes.py:518: FutureWarning: Passing (type, 1) or '1type' as a synonym of type is deprecated; in a future version of numpy, it will be understood as (type, (1,)) / '(1,)type'.\n",
      "  _np_qint16 = np.dtype([(\"qint16\", np.int16, 1)])\n",
      "D:\\XUEXI\\anaconda3\\envs\\tensorflow\\lib\\site-packages\\tensorflow\\python\\framework\\dtypes.py:519: FutureWarning: Passing (type, 1) or '1type' as a synonym of type is deprecated; in a future version of numpy, it will be understood as (type, (1,)) / '(1,)type'.\n",
      "  _np_quint16 = np.dtype([(\"quint16\", np.uint16, 1)])\n",
      "D:\\XUEXI\\anaconda3\\envs\\tensorflow\\lib\\site-packages\\tensorflow\\python\\framework\\dtypes.py:520: FutureWarning: Passing (type, 1) or '1type' as a synonym of type is deprecated; in a future version of numpy, it will be understood as (type, (1,)) / '(1,)type'.\n",
      "  _np_qint32 = np.dtype([(\"qint32\", np.int32, 1)])\n",
      "D:\\XUEXI\\anaconda3\\envs\\tensorflow\\lib\\site-packages\\tensorflow\\python\\framework\\dtypes.py:525: FutureWarning: Passing (type, 1) or '1type' as a synonym of type is deprecated; in a future version of numpy, it will be understood as (type, (1,)) / '(1,)type'.\n",
      "  np_resource = np.dtype([(\"resource\", np.ubyte, 1)])\n",
      "D:\\XUEXI\\anaconda3\\envs\\tensorflow\\lib\\site-packages\\tensorboard\\compat\\tensorflow_stub\\dtypes.py:541: FutureWarning: Passing (type, 1) or '1type' as a synonym of type is deprecated; in a future version of numpy, it will be understood as (type, (1,)) / '(1,)type'.\n",
      "  _np_qint8 = np.dtype([(\"qint8\", np.int8, 1)])\n",
      "D:\\XUEXI\\anaconda3\\envs\\tensorflow\\lib\\site-packages\\tensorboard\\compat\\tensorflow_stub\\dtypes.py:542: FutureWarning: Passing (type, 1) or '1type' as a synonym of type is deprecated; in a future version of numpy, it will be understood as (type, (1,)) / '(1,)type'.\n",
      "  _np_quint8 = np.dtype([(\"quint8\", np.uint8, 1)])\n",
      "D:\\XUEXI\\anaconda3\\envs\\tensorflow\\lib\\site-packages\\tensorboard\\compat\\tensorflow_stub\\dtypes.py:543: FutureWarning: Passing (type, 1) or '1type' as a synonym of type is deprecated; in a future version of numpy, it will be understood as (type, (1,)) / '(1,)type'.\n",
      "  _np_qint16 = np.dtype([(\"qint16\", np.int16, 1)])\n",
      "D:\\XUEXI\\anaconda3\\envs\\tensorflow\\lib\\site-packages\\tensorboard\\compat\\tensorflow_stub\\dtypes.py:544: FutureWarning: Passing (type, 1) or '1type' as a synonym of type is deprecated; in a future version of numpy, it will be understood as (type, (1,)) / '(1,)type'.\n",
      "  _np_quint16 = np.dtype([(\"quint16\", np.uint16, 1)])\n",
      "D:\\XUEXI\\anaconda3\\envs\\tensorflow\\lib\\site-packages\\tensorboard\\compat\\tensorflow_stub\\dtypes.py:545: FutureWarning: Passing (type, 1) or '1type' as a synonym of type is deprecated; in a future version of numpy, it will be understood as (type, (1,)) / '(1,)type'.\n",
      "  _np_qint32 = np.dtype([(\"qint32\", np.int32, 1)])\n",
      "D:\\XUEXI\\anaconda3\\envs\\tensorflow\\lib\\site-packages\\tensorboard\\compat\\tensorflow_stub\\dtypes.py:550: FutureWarning: Passing (type, 1) or '1type' as a synonym of type is deprecated; in a future version of numpy, it will be understood as (type, (1,)) / '(1,)type'.\n",
      "  np_resource = np.dtype([(\"resource\", np.ubyte, 1)])\n"
     ]
    }
   ],
   "source": [
    "import numpy as np\n",
    "import tensorflow as tf\n",
    "from tensorflow.keras import Sequential, layers, optimizers"
   ]
  },
  {
   "cell_type": "code",
   "execution_count": 3,
   "metadata": {},
   "outputs": [
    {
     "name": "stdout",
     "output_type": "stream",
     "text": [
      "(60000, 28, 28)\n",
      "(60000,)\n",
      "(10000, 28, 28)\n",
      "(10000,)\n",
      "(60000, 28, 28, 1)\n",
      "(60000,)\n",
      "(10000, 28, 28, 1)\n",
      "(10000,)\n"
     ]
    }
   ],
   "source": [
    "# 加载数据集\n",
    "mnist = tf.keras.datasets.mnist\n",
    "(trainImage, trainLabel), (testImage, testLabel) = mnist.load_data()\n",
    "\n",
    "for i in [trainImage, trainLabel, testImage, testLabel]:\n",
    "    print(i.shape)\n",
    "\n",
    "trainImage = np.array(trainImage).reshape(60000, 28, 28, 1)  # train的时候，再划分一部分为验证集\n",
    "testImage = np.array(testImage).reshape(10000, 28, 28, 1)  # train 的时候不用，test用\n",
    "\n",
    "for i in [trainImage, trainLabel, testImage, testLabel]:\n",
    "    print(i.shape)\n"
   ]
  },
  {
   "cell_type": "code",
   "execution_count": 3,
   "metadata": {},
   "outputs": [
    {
     "name": "stdout",
     "output_type": "stream",
     "text": [
      "WARNING:tensorflow:From D:\\XUEXI\\anaconda3\\envs\\tensorflow\\lib\\site-packages\\tensorflow\\python\\ops\\init_ops.py:1251: calling VarianceScaling.__init__ (from tensorflow.python.ops.init_ops) with dtype is deprecated and will be removed in a future version.\n",
      "Instructions for updating:\n",
      "Call initializer instance with the dtype argument instead of passing it to the constructor\n",
      "Model: \"sequential\"\n",
      "_________________________________________________________________\n",
      "Layer (type)                 Output Shape              Param #   \n",
      "=================================================================\n",
      "conv2d (Conv2D)              (None, 28, 28, 6)         156       \n",
      "_________________________________________________________________\n",
      "max_pooling2d (MaxPooling2D) (None, 14, 14, 6)         0         \n",
      "_________________________________________________________________\n",
      "conv2d_1 (Conv2D)            (None, 14, 14, 16)        2416      \n",
      "_________________________________________________________________\n",
      "max_pooling2d_1 (MaxPooling2 (None, 7, 7, 16)          0         \n",
      "_________________________________________________________________\n",
      "conv2d_2 (Conv2D)            (None, 7, 7, 32)          12832     \n",
      "_________________________________________________________________\n",
      "flatten (Flatten)            (None, 1568)              0         \n",
      "_________________________________________________________________\n",
      "dense (Dense)                (None, 200)               313800    \n",
      "_________________________________________________________________\n",
      "dense_1 (Dense)              (None, 10)                2010      \n",
      "=================================================================\n",
      "Total params: 331,214\n",
      "Trainable params: 331,214\n",
      "Non-trainable params: 0\n",
      "_________________________________________________________________\n"
     ]
    }
   ],
   "source": [
    "# 网络定义\n",
    "network = Sequential([\n",
    "    # 卷积层1\n",
    "    layers.Conv2D(filters=6, kernel_size=(5, 5), activation=\"relu\", input_shape=(28, 28, 1), padding=\"same\"),\n",
    "    layers.MaxPool2D(pool_size=(2, 2), strides=2),\n",
    "\n",
    "    # 卷积层2\n",
    "    layers.Conv2D(filters=16, kernel_size=(5, 5), activation=\"relu\", padding=\"same\"),\n",
    "    layers.MaxPool2D(pool_size=2, strides=2),\n",
    "\n",
    "    # 卷积层3\n",
    "    layers.Conv2D(filters=32, kernel_size=(5, 5), activation=\"relu\", padding=\"same\"),\n",
    "\n",
    "    layers.Flatten(),\n",
    "\n",
    "    # 全连接层1\n",
    "    layers.Dense(200, activation=\"relu\"),\n",
    "\n",
    "    # 全连接层2\n",
    "    layers.Dense(10, activation=\"softmax\")\n",
    "])\n",
    "network.summary()\n"
   ]
  },
  {
   "cell_type": "code",
   "execution_count": 4,
   "metadata": {},
   "outputs": [
    {
     "name": "stdout",
     "output_type": "stream",
     "text": [
      "Train on 54000 samples, validate on 6000 samples\n",
      "Epoch 1/30\n",
      "54000/54000 [==============================] - 8s 143us/sample - loss: 0.2285 - acc: 0.9474 - val_loss: 0.0588 - val_acc: 0.9805\n",
      "Epoch 2/30\n",
      "54000/54000 [==============================] - 6s 110us/sample - loss: 0.0642 - acc: 0.9799 - val_loss: 0.0574 - val_acc: 0.9837\n",
      "Epoch 3/30\n",
      "54000/54000 [==============================] - 7s 126us/sample - loss: 0.0536 - acc: 0.9831 - val_loss: 0.0453 - val_acc: 0.9878\n",
      "Epoch 4/30\n",
      "54000/54000 [==============================] - 5s 95us/sample - loss: 0.0509 - acc: 0.9847 - val_loss: 0.0700 - val_acc: 0.9790\n",
      "Epoch 5/30\n",
      "54000/54000 [==============================] - 5s 93us/sample - loss: 0.0430 - acc: 0.9869 - val_loss: 0.0677 - val_acc: 0.9818\n",
      "Epoch 6/30\n",
      "54000/54000 [==============================] - 5s 93us/sample - loss: 0.0418 - acc: 0.9878 - val_loss: 0.0498 - val_acc: 0.9865\n",
      "Epoch 7/30\n",
      "54000/54000 [==============================] - 5s 96us/sample - loss: 0.0362 - acc: 0.9891 - val_loss: 0.0565 - val_acc: 0.9862\n",
      "Epoch 8/30\n",
      "54000/54000 [==============================] - 5s 98us/sample - loss: 0.0365 - acc: 0.9892 - val_loss: 0.0745 - val_acc: 0.9797\n",
      "Epoch 9/30\n",
      "54000/54000 [==============================] - 5s 99us/sample - loss: 0.0336 - acc: 0.9903 - val_loss: 0.0846 - val_acc: 0.9848\n",
      "Epoch 10/30\n",
      "54000/54000 [==============================] - 5s 98us/sample - loss: 0.0364 - acc: 0.9900 - val_loss: 0.0906 - val_acc: 0.9845\n",
      "Epoch 11/30\n",
      "54000/54000 [==============================] - 5s 93us/sample - loss: 0.0296 - acc: 0.9915 - val_loss: 0.0631 - val_acc: 0.9878\n",
      "Epoch 12/30\n",
      "54000/54000 [==============================] - 5s 92us/sample - loss: 0.0313 - acc: 0.9918 - val_loss: 0.0945 - val_acc: 0.9803\n",
      "Epoch 13/30\n",
      "54000/54000 [==============================] - 5s 91us/sample - loss: 0.0268 - acc: 0.9928 - val_loss: 0.0839 - val_acc: 0.9863\n",
      "Epoch 14/30\n",
      "54000/54000 [==============================] - 5s 93us/sample - loss: 0.0349 - acc: 0.9911 - val_loss: 0.0853 - val_acc: 0.9848\n",
      "Epoch 15/30\n",
      "54000/54000 [==============================] - 5s 92us/sample - loss: 0.0278 - acc: 0.9933 - val_loss: 0.0664 - val_acc: 0.9867\n",
      "Epoch 16/30\n",
      "54000/54000 [==============================] - 5s 92us/sample - loss: 0.0325 - acc: 0.9923 - val_loss: 0.1029 - val_acc: 0.9835\n",
      "Epoch 17/30\n",
      "54000/54000 [==============================] - 5s 92us/sample - loss: 0.0359 - acc: 0.9921 - val_loss: 0.0746 - val_acc: 0.9848\n",
      "Epoch 18/30\n",
      "54000/54000 [==============================] - 5s 91us/sample - loss: 0.0248 - acc: 0.9942 - val_loss: 0.0877 - val_acc: 0.9833\n",
      "Epoch 19/30\n",
      "54000/54000 [==============================] - 5s 91us/sample - loss: 0.0302 - acc: 0.9932 - val_loss: 0.0964 - val_acc: 0.9852\n",
      "Epoch 20/30\n",
      "54000/54000 [==============================] - 5s 95us/sample - loss: 0.0320 - acc: 0.9928 - val_loss: 0.1399 - val_acc: 0.9843\n",
      "Epoch 21/30\n",
      "54000/54000 [==============================] - 5s 92us/sample - loss: 0.0288 - acc: 0.9937 - val_loss: 0.0713 - val_acc: 0.9882\n",
      "Epoch 22/30\n",
      "54000/54000 [==============================] - 5s 92us/sample - loss: 0.0283 - acc: 0.9942 - val_loss: 0.0981 - val_acc: 0.9855\n",
      "Epoch 23/30\n",
      "54000/54000 [==============================] - 5s 92us/sample - loss: 0.0310 - acc: 0.9935 - val_loss: 0.0964 - val_acc: 0.9865\n",
      "Epoch 24/30\n",
      "54000/54000 [==============================] - 5s 91us/sample - loss: 0.0308 - acc: 0.9948 - val_loss: 0.1120 - val_acc: 0.9868\n",
      "Epoch 25/30\n",
      "54000/54000 [==============================] - 5s 89us/sample - loss: 0.0347 - acc: 0.9935 - val_loss: 0.1196 - val_acc: 0.9853\n",
      "Epoch 26/30\n",
      "54000/54000 [==============================] - 5s 92us/sample - loss: 0.0260 - acc: 0.9950 - val_loss: 0.0973 - val_acc: 0.9882\n",
      "Epoch 27/30\n",
      "54000/54000 [==============================] - 5s 91us/sample - loss: 0.0303 - acc: 0.9943 - val_loss: 0.1268 - val_acc: 0.9853\n",
      "Epoch 28/30\n",
      "54000/54000 [==============================] - 6s 104us/sample - loss: 0.0294 - acc: 0.9949 - val_loss: 0.1343 - val_acc: 0.9843\n",
      "Epoch 29/30\n",
      "54000/54000 [==============================] - 5s 92us/sample - loss: 0.0331 - acc: 0.9944 - val_loss: 0.1198 - val_acc: 0.9845\n",
      "Epoch 30/30\n",
      "54000/54000 [==============================] - 5s 96us/sample - loss: 0.0326 - acc: 0.9938 - val_loss: 0.1005 - val_acc: 0.9855\n"
     ]
    },
    {
     "data": {
      "text/plain": [
       "<tensorflow.python.keras.callbacks.History at 0x20784387f08>"
      ]
     },
     "execution_count": 4,
     "metadata": {},
     "output_type": "execute_result"
    }
   ],
   "source": [
    "# 模型训练 训练30个epoch\n",
    "network.compile(optimizer='adam', loss=\"sparse_categorical_crossentropy\", metrics=[\"accuracy\"])\n",
    "network.fit(trainImage, trainLabel, epochs=30, validation_split=0.1)"
   ]
  },
  {
   "cell_type": "code",
   "execution_count": 5,
   "metadata": {},
   "outputs": [
    {
     "name": "stdout",
     "output_type": "stream",
     "text": [
      "lenet_mnist model saved\n"
     ]
    }
   ],
   "source": [
    "# 模型保存\n",
    "network.save('./lenet_mnist.h5')\n",
    "print('lenet_mnist model saved')\n",
    "del network"
   ]
  },
  {
   "cell_type": "code",
   "execution_count": 10,
   "metadata": {},
   "outputs": [
    {
     "data": {
      "image/png": "[encoded data removed]",
      "text/plain": [
       "<Figure size 640x480 with 25 Axes>"
      ]
     },
     "metadata": {},
     "output_type": "display_data"
    },
    {
     "name": "stdout",
     "output_type": "stream",
     "text": [
      "[7, 2, 1, 0, 4, 1, 4, 9, 5, 9, 0, 6, 9, 0, 1, 5, 9, 7, 3, 4, 9, 6, 6, 5, 4]\n"
     ]
    }
   ],
   "source": [
    "import matplotlib.pyplot as plt\n",
    "from tensorflow import keras\n",
    "# 网络加载\n",
    "network = keras.models.load_model('lenet_mnist.h5')\n",
    "# 显示前25张图片\n",
    "for i in range(25):\n",
    "    plt.subplot(5, 5, i + 1)\n",
    "    plt.imshow(testImage[i].squeeze(), cmap='gray')\n",
    "plt.show()\n",
    "# 改变维度\n",
    "# testImage = np.array(testImage).reshape(10000, 28, 28, 1)\n",
    "# 结果预测\n",
    "result = network.predict(testImage)[0:25]\n",
    "pred = np.argmax(result, axis=1)\n",
    "pred_list = []\n",
    "for item in pred:\n",
    "    pred_list.append(item)\n",
    "print(pred_list)"
   ]
  },
  {
   "cell_type": "code",
   "execution_count": null,
   "metadata": {},
   "outputs": [],
   "source": []
  }
 ],
 "metadata": {
  "kernelspec": {
   "display_name": "tensorflow",
   "language": "python",
   "name": "tensorflow"
  },
  "language_info": {
   "codemirror_mode": {
    "name": "ipython",
    "version": 3
   },
   "file_extension": ".py",
   "mimetype": "text/x-python",
   "name": "python",
   "nbconvert_exporter": "python",
   "pygments_lexer": "ipython3",
   "version": "3.7.7"
  }
 },
 "nbformat": 4,
 "nbformat_minor": 2
}
